{
 "cells": [
  {
   "cell_type": "code",
   "execution_count": 2,
   "metadata": {},
   "outputs": [
    {
     "name": "stdout",
     "output_type": "stream",
     "text": [
      "Enter your name: Imdadul Haque\n",
      "My name is Imdadul Haque.\n"
     ]
    }
   ],
   "source": [
    "name = input(\"Enter your name: \")\n",
    "print(f\"My name is {name}.\")"
   ]
  },
  {
   "cell_type": "code",
   "execution_count": 3,
   "metadata": {},
   "outputs": [
    {
     "name": "stdout",
     "output_type": "stream",
     "text": [
      "<class 'str'>\n",
      "<class 'str'>\n",
      "<class 'str'>\n",
      "<class 'str'>\n",
      "<class 'str'>\n",
      "<class 'str'>\n"
     ]
    }
   ],
   "source": [
    "s= \"Hello, myself Imdadul Haque!\"\n",
    "print(type(s))\n",
    "print(type(\"\"))\n",
    "print(type(\" \"))\n",
    "print(type(''))\n",
    "print(type(' '))\n",
    "print(type(\"\"\"   \"\"\"))"
   ]
  },
  {
   "cell_type": "code",
   "execution_count": 11,
   "metadata": {},
   "outputs": [
    {
     "name": "stdout",
     "output_type": "stream",
     "text": [
      "My name is Imdadul Haque.\n",
      "I am CSE student at DIU and I am working with research.\n",
      "Not only I am working with research but also web development is my another choice \n",
      "and I am trying to develop my skill on Machine Learning and also full stack developer !\n",
      "\n"
     ]
    }
   ],
   "source": [
    "#Multiple lines are posible only for third quatation.\n",
    "print(\"\"\"My name is Imdadul Haque.\n",
    "I am CSE student at DIU and I am working with research.\n",
    "Not only I am working with research but also web development is my another choice \n",
    "and I am trying to develop my skill on Machine Learning and also full stack developer !\n",
    "\"\"\")"
   ]
  },
  {
   "cell_type": "markdown",
   "metadata": {},
   "source": [
    "# String Concatenation:\n",
    "<p><b>String Concatenation</b> means adding multiple string. This is a rules to add the perticular string (lines). We should mind it, It's never posible to add differents type and always add string and string note number. But It is posible to add number and string after converting number into string using building function <b>str()</b></p>"
   ]
  },
  {
   "cell_type": "code",
   "execution_count": 10,
   "metadata": {},
   "outputs": [
    {
     "name": "stdout",
     "output_type": "stream",
     "text": [
      "Imdadul Haque\n",
      "\n",
      "Imdadul Haque\n"
     ]
    }
   ],
   "source": [
    "print(\"Imdadul Haque\\n\")\n",
    "\n",
    "#I can use another way to print \"First_Name\" and \"Last_Name\"\n",
    "\n",
    "print(\"Imdadul\"+\" \"+\"Haque\")     # This is String Concatenation\n",
    "#--------------------------------> "
   ]
  },
  {
   "cell_type": "markdown",
   "metadata": {},
   "source": [
    "# String Method"
   ]
  },
  {
   "cell_type": "code",
   "execution_count": 12,
   "metadata": {},
   "outputs": [
    {
     "name": "stdout",
     "output_type": "stream",
     "text": [
      "25\n"
     ]
    }
   ],
   "source": [
    "#len() method is used for calculate the length of a string\n",
    "name=\"My name is Imdadul Haque.\"\n",
    "print(len(name))"
   ]
  },
  {
   "cell_type": "code",
   "execution_count": 15,
   "metadata": {},
   "outputs": [
    {
     "name": "stdout",
     "output_type": "stream",
     "text": [
      "['__add__', '__class__', '__contains__', '__delattr__', '__dir__', '__doc__', '__eq__', '__format__', '__ge__', '__getattribute__', '__getitem__', '__getnewargs__', '__gt__', '__hash__', '__init__', '__init_subclass__', '__iter__', '__le__', '__len__', '__lt__', '__mod__', '__mul__', '__ne__', '__new__', '__reduce__', '__reduce_ex__', '__repr__', '__rmod__', '__rmul__', '__setattr__', '__sizeof__', '__str__', '__subclasshook__', 'capitalize', 'casefold', 'center', 'count', 'encode', 'endswith', 'expandtabs', 'find', 'format', 'format_map', 'index', 'isalnum', 'isalpha', 'isascii', 'isdecimal', 'isdigit', 'isidentifier', 'islower', 'isnumeric', 'isprintable', 'isspace', 'istitle', 'isupper', 'join', 'ljust', 'lower', 'lstrip', 'maketrans', 'partition', 'replace', 'rfind', 'rindex', 'rjust', 'rpartition', 'rsplit', 'rstrip', 'split', 'splitlines', 'startswith', 'strip', 'swapcase', 'title', 'translate', 'upper', 'zfill']\n"
     ]
    }
   ],
   "source": [
    "#dir() method is \n",
    "print(dir(\"Imdadul Haque\"))"
   ]
  },
  {
   "cell_type": "code",
   "execution_count": 17,
   "metadata": {},
   "outputs": [
    {
     "name": "stdout",
     "output_type": "stream",
     "text": [
      "iMDADUL hAQUE\n"
     ]
    }
   ],
   "source": [
    "print(\"Imdadul Haque\".swapcase())"
   ]
  },
  {
   "cell_type": "code",
   "execution_count": 19,
   "metadata": {},
   "outputs": [
    {
     "name": "stdout",
     "output_type": "stream",
     "text": [
      "Imdadul Haque\n"
     ]
    }
   ],
   "source": [
    "print(\"Imdadul Haque\".title())"
   ]
  },
  {
   "cell_type": "code",
   "execution_count": 23,
   "metadata": {},
   "outputs": [
    {
     "name": "stdout",
     "output_type": "stream",
     "text": [
      "Imdadul Haque\n"
     ]
    }
   ],
   "source": [
    "print(\"           Imdadul Haque             \".strip())"
   ]
  },
  {
   "cell_type": "code",
   "execution_count": 24,
   "metadata": {},
   "outputs": [
    {
     "name": "stdout",
     "output_type": "stream",
     "text": [
      "23\n"
     ]
    }
   ],
   "source": [
    "#find() method\n",
    "uni_name = \"Daffodil International University\"\n",
    "print(uni_name.find(\"U\"))"
   ]
  },
  {
   "cell_type": "code",
   "execution_count": 25,
   "metadata": {},
   "outputs": [
    {
     "name": "stdout",
     "output_type": "stream",
     "text": [
      "Daffodil International University\n"
     ]
    }
   ],
   "source": [
    "#replace() method\n",
    "uni_name = \"Dhaka International University\"\n",
    "print(uni_name.replace(\"Dhaka\",\"Daffodil\"))"
   ]
  },
  {
   "cell_type": "markdown",
   "metadata": {},
   "source": [
    "# String Slicing"
   ]
  },
  {
   "cell_type": "code",
   "execution_count": 9,
   "metadata": {},
   "outputs": [
    {
     "name": "stdout",
     "output_type": "stream",
     "text": [
      "33\n",
      "International\n",
      "Itrainl\n"
     ]
    }
   ],
   "source": [
    "uni_name = \"Daffodil International University\"\n",
    "print(len(uni_name))\n",
    "print(uni_name[9:22])\n",
    "print(uni_name[9:22:2])"
   ]
  },
  {
   "cell_type": "code",
   "execution_count": null,
   "metadata": {},
   "outputs": [],
   "source": []
  }
 ],
 "metadata": {
  "kernelspec": {
   "display_name": "Python 3",
   "language": "python",
   "name": "python3"
  },
  "language_info": {
   "codemirror_mode": {
    "name": "ipython",
    "version": 3
   },
   "file_extension": ".py",
   "mimetype": "text/x-python",
   "name": "python",
   "nbconvert_exporter": "python",
   "pygments_lexer": "ipython3",
   "version": "3.8.3"
  }
 },
 "nbformat": 4,
 "nbformat_minor": 4
}

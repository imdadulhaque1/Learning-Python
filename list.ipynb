{
 "cells": [
  {
   "cell_type": "markdown",
   "metadata": {},
   "source": [
    "# Introduction to list"
   ]
  },
  {
   "cell_type": "code",
   "execution_count": 1,
   "metadata": {},
   "outputs": [
    {
     "name": "stdout",
     "output_type": "stream",
     "text": [
      "First Name: Hasna Hena\n",
      "Last Name: Israt Jahan Maisha\n"
     ]
    }
   ],
   "source": [
    "name = [\"Hasna Hena\",\"Enamul Haque\",\"Imdadul Haque\",\"Shampa khatun\",\"Israt Jahan Maisha\"]\n",
    "print(f\"First Name: {name[0]}\\nLast Name: {name[-1]}\")"
   ]
  },
  {
   "cell_type": "code",
   "execution_count": null,
   "metadata": {},
   "outputs": [],
   "source": []
  },
  {
   "cell_type": "code",
   "execution_count": null,
   "metadata": {},
   "outputs": [],
   "source": []
  },
  {
   "cell_type": "code",
   "execution_count": null,
   "metadata": {},
   "outputs": [],
   "source": []
  },
  {
   "cell_type": "markdown",
   "metadata": {},
   "source": [
    "# List slicing"
   ]
  },
  {
   "cell_type": "code",
   "execution_count": 2,
   "metadata": {},
   "outputs": [],
   "source": [
    "n =  [1, 2, 3, 4, 5, 6, 7, 8, 9, 10]\n",
    "#-->  0  1  2  3  4  5  6  7  8  9\n",
    "#<-- -1 -2 -3 -4 -5 -6 -7 -8 -9 -10"
   ]
  },
  {
   "cell_type": "code",
   "execution_count": 3,
   "metadata": {},
   "outputs": [
    {
     "name": "stdout",
     "output_type": "stream",
     "text": [
      "[2, 3, 4, 5, 6, 7, 8]\n"
     ]
    }
   ],
   "source": [
    "#[starting point : ending point]\n",
    "print(n[1:8])"
   ]
  },
  {
   "cell_type": "code",
   "execution_count": 4,
   "metadata": {},
   "outputs": [
    {
     "name": "stdout",
     "output_type": "stream",
     "text": [
      "[1, 4, 7]\n"
     ]
    }
   ],
   "source": [
    "#[starting point : ending point : steps]\n",
    "print(n[0:9:3])"
   ]
  },
  {
   "cell_type": "code",
   "execution_count": 5,
   "metadata": {},
   "outputs": [
    {
     "name": "stdout",
     "output_type": "stream",
     "text": [
      "[3, 4, 5, 6, 7, 8, 9]\n"
     ]
    }
   ],
   "source": [
    "#[starting point : ending point]\n",
    "#print(n[-1:-8])   #It will be print the NULL\n",
    "print(n[-8:-1])"
   ]
  },
  {
   "cell_type": "code",
   "execution_count": 6,
   "metadata": {},
   "outputs": [
    {
     "name": "stdout",
     "output_type": "stream",
     "text": [
      "[1, 4, 7]\n"
     ]
    }
   ],
   "source": [
    "#[starting point : ending point : steps]\n",
    "print(n[-10:-1:3])"
   ]
  },
  {
   "cell_type": "code",
   "execution_count": 7,
   "metadata": {},
   "outputs": [
    {
     "name": "stdout",
     "output_type": "stream",
     "text": [
      "[2, 3, 4, 5, 6, 7]\n"
     ]
    }
   ],
   "source": [
    "#Mixing negative and positive\n",
    "\n",
    "#[starting point : ending point]\n",
    "print(n[1:-3])"
   ]
  },
  {
   "cell_type": "code",
   "execution_count": 8,
   "metadata": {},
   "outputs": [
    {
     "name": "stdout",
     "output_type": "stream",
     "text": [
      "[1, 4, 7]\n"
     ]
    }
   ],
   "source": [
    "#Mixing negative and positive\n",
    "\n",
    "#[starting point : ending point : steps]\n",
    "print(n[-10:8:3])"
   ]
  },
  {
   "cell_type": "markdown",
   "metadata": {},
   "source": [
    "# String Slicing"
   ]
  },
  {
   "cell_type": "code",
   "execution_count": 9,
   "metadata": {},
   "outputs": [
    {
     "name": "stdout",
     "output_type": "stream",
     "text": [
      "33\n",
      "International\n",
      "Itrainl\n"
     ]
    }
   ],
   "source": [
    "uni_name = \"Daffodil International University\"\n",
    "print(len(uni_name))\n",
    "print(uni_name[9:22])\n",
    "print(uni_name[9:22:2])"
   ]
  },
  {
   "cell_type": "markdown",
   "metadata": {},
   "source": [
    "# Method in List and Function"
   ]
  },
  {
   "cell_type": "code",
   "execution_count": 10,
   "metadata": {},
   "outputs": [
    {
     "name": "stdout",
     "output_type": "stream",
     "text": [
      "Length of the name list: 9\n"
     ]
    }
   ],
   "source": [
    "name=[\"Imdadul Haque\",\"Sobuz\",\"Mehedi\",\"Sohel\",\"Mizan\",1,2,3,4]\n",
    "print(f\"Length of the name list: {len(name)}\")"
   ]
  },
  {
   "cell_type": "code",
   "execution_count": 11,
   "metadata": {},
   "outputs": [
    {
     "name": "stdout",
     "output_type": "stream",
     "text": [
      "['__add__', '__class__', '__contains__', '__delattr__', '__delitem__', '__dir__', '__doc__', '__eq__', '__format__', '__ge__', '__getattribute__', '__getitem__', '__gt__', '__hash__', '__iadd__', '__imul__', '__init__', '__init_subclass__', '__iter__', '__le__', '__len__', '__lt__', '__mul__', '__ne__', '__new__', '__reduce__', '__reduce_ex__', '__repr__', '__reversed__', '__rmul__', '__setattr__', '__setitem__', '__sizeof__', '__str__', '__subclasshook__', 'append', 'clear', 'copy', 'count', 'extend', 'index', 'insert', 'pop', 'remove', 'reverse', 'sort']\n"
     ]
    }
   ],
   "source": [
    "print(dir(name))"
   ]
  },
  {
   "cell_type": "code",
   "execution_count": 12,
   "metadata": {},
   "outputs": [],
   "source": [
    "#How should i add a item in list at any position ? As it will be 2nd, middle,second last,,,,,, etc"
   ]
  },
  {
   "cell_type": "code",
   "execution_count": 13,
   "metadata": {},
   "outputs": [
    {
     "name": "stdout",
     "output_type": "stream",
     "text": [
      "0\n"
     ]
    }
   ],
   "source": [
    "me=[]\n",
    "print(len(me))"
   ]
  },
  {
   "cell_type": "code",
   "execution_count": 14,
   "metadata": {},
   "outputs": [
    {
     "name": "stdout",
     "output_type": "stream",
     "text": [
      "['Imdadul Haque']\n"
     ]
    }
   ],
   "source": [
    "#add any item in list at the last using \"append method\"\n",
    "me.append(\"Imdadul Haque\")\n",
    "print(me)"
   ]
  },
  {
   "cell_type": "code",
   "execution_count": 15,
   "metadata": {},
   "outputs": [
    {
     "name": "stdout",
     "output_type": "stream",
     "text": [
      "['Imdadul Haque', 1440]\n"
     ]
    }
   ],
   "source": [
    "me.append(1440)\n",
    "print(me)"
   ]
  },
  {
   "cell_type": "code",
   "execution_count": 16,
   "metadata": {},
   "outputs": [
    {
     "name": "stdout",
     "output_type": "stream",
     "text": [
      "['Imdadul Haque', 1440, 'CSE student']\n"
     ]
    }
   ],
   "source": [
    "me.append(\"CSE student\")\n",
    "print(me)"
   ]
  },
  {
   "cell_type": "code",
   "execution_count": 17,
   "metadata": {},
   "outputs": [
    {
     "name": "stdout",
     "output_type": "stream",
     "text": [
      "['Imdadul Haque', 1440, 'CSE student', 'at DIU']\n"
     ]
    }
   ],
   "source": [
    "me.append(\"at DIU\")\n",
    "print(me)"
   ]
  },
  {
   "cell_type": "code",
   "execution_count": 18,
   "metadata": {},
   "outputs": [],
   "source": [
    "# me.clear()\n",
    "# print(me)"
   ]
  },
  {
   "cell_type": "code",
   "execution_count": 19,
   "metadata": {},
   "outputs": [
    {
     "name": "stdout",
     "output_type": "stream",
     "text": [
      "['Imdadul Haque', 1440, 'CSE student', 'at DIU']\n"
     ]
    }
   ],
   "source": [
    "#------------->\n",
    "# for copying from another variable, the copied list and main list will be same\n",
    "# but the memory address is not same !\n",
    "#------------->\n",
    "student=me.copy()\n",
    "print(student)"
   ]
  },
  {
   "cell_type": "code",
   "execution_count": 20,
   "metadata": {},
   "outputs": [
    {
     "name": "stdout",
     "output_type": "stream",
     "text": [
      "Original List: ['Imdadul Haque', 1440, 'CSE student', 'at DIU']\n",
      "Copied list: ['Imdadul Haque', 1440, 'CSE student', 'at DIU', 'Working with Research']\n"
     ]
    }
   ],
   "source": [
    "student.append(\"Working with Research\")\n",
    "\n",
    "print(f\"Original List: {me}\")\n",
    "print(f\"Copied list: {student}\")\n",
    "\n",
    "#--------------->\n",
    "# This is the prove of different location between original list and copied list\n",
    "#--------------->"
   ]
  },
  {
   "cell_type": "code",
   "execution_count": 21,
   "metadata": {},
   "outputs": [
    {
     "name": "stdout",
     "output_type": "stream",
     "text": [
      "Count: 3\n"
     ]
    }
   ],
   "source": [
    "#Using count()method\n",
    "#--->  count() Method is used for counting how many item is presented in list.\n",
    "nums=[1,2,3,4,5,6,7,8,3,4,5,3,45,]\n",
    "print(f\"Count: {nums.count(3)}\")"
   ]
  },
  {
   "cell_type": "code",
   "execution_count": 22,
   "metadata": {},
   "outputs": [
    {
     "name": "stdout",
     "output_type": "stream",
     "text": [
      "Extend n2 into n1: [1, 2, 3, 4, 5, 6, 7, 8, 9, 10]\n",
      "Extend n1 into n2: [9, 10, 1, 2, 3, 4, 5, 6, 7, 8]\n"
     ]
    }
   ],
   "source": [
    "#Using extend() method\n",
    "\n",
    "n1 =[1,2,3,4,5,6,7,8]\n",
    "n2=[9,10]\n",
    "n1.extend(n2)\n",
    "print(f\"Extend n2 into n1: {n1}\")\n",
    "#--------------------------------------------->\n",
    "n1 =[1,2,3,4,5,6,7,8]\n",
    "n2=[9,10]\n",
    "n2.extend(n1)\n",
    "print(f\"Extend n1 into n2: {n2}\")"
   ]
  },
  {
   "cell_type": "code",
   "execution_count": 23,
   "metadata": {},
   "outputs": [
    {
     "name": "stdout",
     "output_type": "stream",
     "text": [
      "n1=[1, 2, 3, 4, 5, 6, 7, 8]\n",
      "n2=[9, 10, 1, 2, 3, 4, 5, 6, 7, 8]\n"
     ]
    }
   ],
   "source": [
    "print(f\"n1={n1}\")   # Don't change the value of n1 after use of extend()  method\n",
    "print(f\"n2={n2}\")   # n2 print the updated value"
   ]
  },
  {
   "cell_type": "code",
   "execution_count": 24,
   "metadata": {},
   "outputs": [
    {
     "name": "stdout",
     "output_type": "stream",
     "text": [
      "Extend n2 into n1: [1, 2, 3, 4, 5, 6, 7, 8, 9, 10]\n",
      "Extend n1 into n2: [9, 10, 1, 2, 3, 4, 5, 6, 7, 8]\n"
     ]
    }
   ],
   "source": [
    "# There is another way to works same as extend() method and that's is given below,\n",
    "n1 =[1,2,3,4,5,6,7,8]\n",
    "n2=[9,10]\n",
    "n1 = n1+n2    # n1.extend(n2)\n",
    "print(f\"Extend n2 into n1: {n1}\")\n",
    "#--------------------------------------------->\n",
    "n1 =[1,2,3,4,5,6,7,8]\n",
    "n2=[9,10]\n",
    "n2 = n2+n1    # n2.extend(n2)\n",
    "print(f\"Extend n1 into n2: {n2}\")"
   ]
  },
  {
   "cell_type": "code",
   "execution_count": 25,
   "metadata": {},
   "outputs": [
    {
     "name": "stdout",
     "output_type": "stream",
     "text": [
      "n1=[1, 2, 3, 4, 5, 6, 7, 8]\n",
      "n2=[9, 10, 1, 2, 3, 4, 5, 6, 7, 8]\n"
     ]
    }
   ],
   "source": [
    "print(f\"n1={n1}\")   # Don't change the value of n1 after adding n2 with n1\n",
    "print(f\"n2={n2}\")   # n2 print the updated value"
   ]
  },
  {
   "cell_type": "markdown",
   "metadata": {},
   "source": [
    "# Why doesn't print updated value of n1 ?\n",
    "<p>I got it why it dosen't print updated value of <b>n1</b>. It print the last used value and that's is <b>n1 =[1,2,3,4,5,6,7,8]</b>.</p>"
   ]
  },
  {
   "cell_type": "code",
   "execution_count": 26,
   "metadata": {},
   "outputs": [
    {
     "name": "stdout",
     "output_type": "stream",
     "text": [
      "Input the wanted item: 8\n",
      "Item Position: 7\n"
     ]
    }
   ],
   "source": [
    "#Use of index() method\n",
    "# index()--> Print the item position in list\n",
    "\n",
    "n =[1, 2, 3, 4, 5, 6, 7, 8, 9, 10]\n",
    "item = int(input(\"Input the wanted item: \"))\n",
    "print(f\"Item Position: {n.index(item)}\")"
   ]
  },
  {
   "cell_type": "markdown",
   "metadata": {},
   "source": [
    "# insert() method:\n",
    "<p> <b>insert():</b> It is used to insert any item in list at any position in list. <br>\n",
    "<b>append():</b> it only can insert item at the last of the list but insert method is used for inserting item at any position of list.\n",
    "</p>"
   ]
  },
  {
   "cell_type": "code",
   "execution_count": 53,
   "metadata": {},
   "outputs": [
    {
     "name": "stdout",
     "output_type": "stream",
     "text": [
      "Original list: ['Imdadul', 'Lakibul']\n",
      "after inserting name at 2 position: ['Imdadul', 'Lakibul', 'Shamima']\n",
      "after inserting name at 2 position: ['Imdadul', 'Lakibul', 'Rakibul', 'Shamima']\n",
      "after inserting name at 2 position: ['Imdadul', 'Lakibul', 'Rakibul', 'Shamima', 'Fakrul']\n"
     ]
    }
   ],
   "source": [
    "#Use of insert() method\n",
    "names=[\"Imdadul\",\"Lakibul\"]\n",
    "print(f\"Original list: {names}\")\n",
    "names.insert(2,\"Shamima\")\n",
    "print(f\"after inserting name at 2 position: {names}\")\n",
    "names.insert(2,\"Rakibul\")\n",
    "print(f\"after inserting name at 2 position: {names}\")\n",
    "names.insert(4,\"Fakrul\")\n",
    "print(f\"after inserting name at 2 position: {names}\")"
   ]
  },
  {
   "cell_type": "code",
   "execution_count": 54,
   "metadata": {},
   "outputs": [
    {
     "name": "stdout",
     "output_type": "stream",
     "text": [
      "After pop item: ['Imdadul', 'Lakibul', 'Rakibul', 'Shamima']\n"
     ]
    }
   ],
   "source": [
    "#-----> pop() method is used for remove item from last in the index\n",
    "\n",
    "names.pop()\n",
    "print(f\"After pop item: {names}\")"
   ]
  },
  {
   "cell_type": "code",
   "execution_count": 55,
   "metadata": {},
   "outputs": [
    {
     "name": "stdout",
     "output_type": "stream",
     "text": [
      "After remove item: ['Imdadul', 'Lakibul', 'Shamima']\n"
     ]
    }
   ],
   "source": [
    "#-----> remove() method is used for removing specific item from list.\n",
    "#-----> Using remove() method, we can remove item from anywhere from list\n",
    "\n",
    "names.remove(\"Rakibul\")\n",
    "print(f\"After remove item: {names}\")"
   ]
  },
  {
   "cell_type": "code",
   "execution_count": 56,
   "metadata": {},
   "outputs": [
    {
     "name": "stdout",
     "output_type": "stream",
     "text": [
      "After sorting list: ['Imdadul', 'Lakibul', 'Shamima']\n",
      "After reversing list: ['Shamima', 'Lakibul', 'Imdadul']\n"
     ]
    }
   ],
   "source": [
    "#-----> sort() method is used for sorting the name or items in list (small to big)\n",
    "names.sort()\n",
    "print(f\"After sorting list: {names}\")\n",
    "\n",
    "#-----> reverse() method is for reversing item in list as big to small\n",
    "names.reverse()\n",
    "print(f\"After reversing list: {names}\")"
   ]
  },
  {
   "cell_type": "markdown",
   "metadata": {},
   "source": [
    "# remove() VS del()\n",
    "<p><b>remove():</b>this method is used for removing using <b>item</b><br>\n",
    "    <b>del():</b> is used for deleting item using <b>index number</b>.\n",
    "</p>"
   ]
  },
  {
   "cell_type": "code",
   "execution_count": 65,
   "metadata": {},
   "outputs": [
    {
     "name": "stdout",
     "output_type": "stream",
     "text": [
      "list after delete item 4: [1, 2, 3, 4, 5, 6, 6, 7, 8, 9, 10]\n",
      "list after remove item 4: [1, 2, 3, 4, 5, 6, 7, 8, 9, 10]\n",
      "Deleted: [1, 2, 3, 4]\n"
     ]
    }
   ],
   "source": [
    "n=[1,2,3,4,4,5,6,6,7,8,9,10]\n",
    "\n",
    "del n[3]  # 3 is index number\n",
    "print(f\"list after delete item 4: {n}\")\n",
    "\n",
    "n.remove(6)   # 6 is item number\n",
    "print(f\"list after remove item 4: {n}\")\n",
    "\n",
    "del n[4:] #from 4 no of index the item is deleted\n",
    "print(f\"Deleted: {n}\")"
   ]
  },
  {
   "cell_type": "code",
   "execution_count": 8,
   "metadata": {},
   "outputs": [
    {
     "name": "stdout",
     "output_type": "stream",
     "text": [
      "Original List: [1, 2, 3, 3, 5, 6, 7, 8, 9, 10]\n",
      " Updated List: [1, 2, 3, 4, 5, 6, 7, 8, 9, 10]\n"
     ]
    }
   ],
   "source": [
    "#-------->Simple way to update item in list\n",
    "n=[1,2,3,3,5,6,7,8,9,10]\n",
    "print(f\"Original List: {n}\")\n",
    "\n",
    "n[3]=4  #We update item using index number\n",
    "print(f\" Updated List: {n}\")"
   ]
  },
  {
   "cell_type": "code",
   "execution_count": 16,
   "metadata": {},
   "outputs": [
    {
     "name": "stdout",
     "output_type": "stream",
     "text": [
      "Original List: [1, 2, 3, 4, 5, 6, 7, 8, 9, 10]\n",
      "Minimum number from list: 1\n",
      "Maximum number from list: 10\n",
      "Summation of all items in list: 55\n"
     ]
    }
   ],
   "source": [
    "#-----------> sum(): is used to sum all no of list\n",
    "print(f\"Original List: {n}\")\n",
    "\n",
    "minimum = min(n)\n",
    "print(f\"Minimum number from list: {minimum}\")\n",
    "\n",
    "maximum = max(n)\n",
    "print(f\"Maximum number from list: {maximum}\")\n",
    "\n",
    "summation = sum(n)\n",
    "print(f\"Summation of all items in list: {summation}\")\n"
   ]
  },
  {
   "cell_type": "code",
   "execution_count": null,
   "metadata": {},
   "outputs": [],
   "source": []
  },
  {
   "cell_type": "code",
   "execution_count": null,
   "metadata": {},
   "outputs": [],
   "source": []
  }
 ],
 "metadata": {
  "kernelspec": {
   "display_name": "Python 3",
   "language": "python",
   "name": "python3"
  },
  "language_info": {
   "codemirror_mode": {
    "name": "ipython",
    "version": 3
   },
   "file_extension": ".py",
   "mimetype": "text/x-python",
   "name": "python",
   "nbconvert_exporter": "python",
   "pygments_lexer": "ipython3",
   "version": "3.8.3"
  }
 },
 "nbformat": 4,
 "nbformat_minor": 4
}

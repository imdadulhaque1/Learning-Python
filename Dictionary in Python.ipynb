{
 "cells": [
  {
   "cell_type": "markdown",
   "metadata": {},
   "source": [
    "# Dictionary:\n",
    "<p>\n",
    "<b>Dictionaries</b> are used to store data values in key:value pairs.\n",
    "\n",
    "A <b>dictionary</b> is a collection which is unordered, changeable and does not allow duplicates.\n",
    "\n",
    "<b>Dictionaries</b> are written with curly brackets, and have keys and values</p>"
   ]
  },
  {
   "cell_type": "code",
   "execution_count": 1,
   "metadata": {},
   "outputs": [],
   "source": [
    "student={\n",
    "    \"s_name\":\"Imdadul Haque\",\n",
    "    \"uni_name\":\"Daffodil International University\",\n",
    "    \"s_ID\":1440,\n",
    "    \"s_dept\":\"Bsc in CSE\",\n",
    "    \"s_email\":\"imdadul15-1440@diu.edu.bd\",\n",
    "    \"s_age\":23,\n",
    "    \"mobile\":\"01773-964101\"\n",
    "}"
   ]
  },
  {
   "cell_type": "code",
   "execution_count": 2,
   "metadata": {},
   "outputs": [
    {
     "name": "stdout",
     "output_type": "stream",
     "text": [
      "Daffodil International University\n",
      "Bsc in CSE\n",
      "imdadul15-1440@diu.edu.bd\n"
     ]
    }
   ],
   "source": [
    "#print(student)\n",
    "print(student[\"uni_name\"])\n",
    "print(student[\"s_dept\"])\n",
    "print(student[\"s_email\"])"
   ]
  },
  {
   "cell_type": "code",
   "execution_count": 3,
   "metadata": {},
   "outputs": [
    {
     "ename": "KeyError",
     "evalue": "'s_fatherName'",
     "output_type": "error",
     "traceback": [
      "\u001b[0;31m---------------------------------------------------------------------------\u001b[0m",
      "\u001b[0;31mKeyError\u001b[0m                                  Traceback (most recent call last)",
      "\u001b[0;32m<ipython-input-3-ebb2ae601821>\u001b[0m in \u001b[0;36m<module>\u001b[0;34m\u001b[0m\n\u001b[1;32m      1\u001b[0m \u001b[0;31m#In dictionary,for using square bracket,it will show an error as \"keyError\" for unsigned value\u001b[0m\u001b[0;34m\u001b[0m\u001b[0;34m\u001b[0m\u001b[0;34m\u001b[0m\u001b[0m\n\u001b[0;32m----> 2\u001b[0;31m \u001b[0mprint\u001b[0m\u001b[0;34m(\u001b[0m\u001b[0mstudent\u001b[0m\u001b[0;34m[\u001b[0m\u001b[0;34m\"s_fatherName\"\u001b[0m\u001b[0;34m]\u001b[0m\u001b[0;34m)\u001b[0m\u001b[0;34m\u001b[0m\u001b[0;34m\u001b[0m\u001b[0m\n\u001b[0m",
      "\u001b[0;31mKeyError\u001b[0m: 's_fatherName'"
     ]
    }
   ],
   "source": [
    "#In dictionary,for using square bracket,it will show an error as \"keyError\" for unsigned value\n",
    "print(student[\"s_fatherName\"])"
   ]
  },
  {
   "cell_type": "code",
   "execution_count": 4,
   "metadata": {},
   "outputs": [
    {
     "name": "stdout",
     "output_type": "stream",
     "text": [
      "Enter the student name: Imdadul Haque\n",
      "Enter your university name: DIU\n",
      "Enter your dept name: Bsc in CSE\n",
      "Enter your university email: imdadul15-1440@diu.edu.bd\n",
      "Enter your age: 23\n"
     ]
    }
   ],
   "source": [
    "student={\n",
    "    \"s_name\":input(\"Enter the student name: \"),\n",
    "    \"uni_name\":input(\"Enter your university name: \"),\n",
    "    \"s_dept\":input(\"Enter your dept name: \"),\n",
    "    \"s_email\":input(\"Enter your university email: \"),\n",
    "    \"s_age\":int(input(\"Enter your age: \"))\n",
    "}"
   ]
  },
  {
   "cell_type": "code",
   "execution_count": 5,
   "metadata": {},
   "outputs": [
    {
     "name": "stdout",
     "output_type": "stream",
     "text": [
      "DIU\n",
      "Bsc in CSE\n",
      "imdadul15-1440@diu.edu.bd\n"
     ]
    }
   ],
   "source": [
    "print(student[\"uni_name\"])\n",
    "print(student[\"s_dept\"])\n",
    "print(student[\"s_email\"])"
   ]
  },
  {
   "cell_type": "code",
   "execution_count": 6,
   "metadata": {},
   "outputs": [
    {
     "name": "stdout",
     "output_type": "stream",
     "text": [
      "DIU\n",
      "Bsc in CSE\n",
      "imdadul15-1440@diu.edu.bd\n"
     ]
    }
   ],
   "source": [
    "#Use of get() method in dictionary\n",
    "print(student.get(\"uni_name\"))\n",
    "print(student.get(\"s_dept\"))\n",
    "print(student.get(\"s_email\"))"
   ]
  },
  {
   "cell_type": "markdown",
   "metadata": {},
   "source": [
    "# Normal(Square bracket) VS get method in dictionary\n",
    "<p>\n",
    "    <b>Square Bracket: </b> it will show an <b>keyError</b> type of error for unsigned value. <br>\n",
    "    <b>get() method: </b> it will not show an error for unsigned value. It will show <b>None.</b><br><br>\n",
    "    \n",
    "    We use get() method for ignore keyError and for printing our code without keyError\n",
    "</p>"
   ]
  },
  {
   "cell_type": "code",
   "execution_count": 9,
   "metadata": {},
   "outputs": [
    {
     "ename": "KeyError",
     "evalue": "'s_fatherName'",
     "output_type": "error",
     "traceback": [
      "\u001b[0;31m---------------------------------------------------------------------------\u001b[0m",
      "\u001b[0;31mKeyError\u001b[0m                                  Traceback (most recent call last)",
      "\u001b[0;32m<ipython-input-9-7f9a49e900a7>\u001b[0m in \u001b[0;36m<module>\u001b[0;34m\u001b[0m\n\u001b[0;32m----> 1\u001b[0;31m \u001b[0mprint\u001b[0m\u001b[0;34m(\u001b[0m\u001b[0mstudent\u001b[0m\u001b[0;34m[\u001b[0m\u001b[0;34m\"s_fatherName\"\u001b[0m\u001b[0;34m]\u001b[0m\u001b[0;34m)\u001b[0m\u001b[0;34m\u001b[0m\u001b[0;34m\u001b[0m\u001b[0m\n\u001b[0m",
      "\u001b[0;31mKeyError\u001b[0m: 's_fatherName'"
     ]
    }
   ],
   "source": [
    "print(student[\"s_fatherName\"])"
   ]
  },
  {
   "cell_type": "code",
   "execution_count": 11,
   "metadata": {},
   "outputs": [
    {
     "name": "stdout",
     "output_type": "stream",
     "text": [
      "None\n"
     ]
    }
   ],
   "source": [
    "print(student.get(\"s_fatherName\"))"
   ]
  },
  {
   "cell_type": "code",
   "execution_count": 22,
   "metadata": {},
   "outputs": [
    {
     "name": "stdout",
     "output_type": "stream",
     "text": [
      "['__class__', '__contains__', '__delattr__', '__delitem__', '__dir__', '__doc__', '__eq__', '__format__', '__ge__', '__getattribute__', '__getitem__', '__gt__', '__hash__', '__init__', '__init_subclass__', '__iter__', '__le__', '__len__', '__lt__', '__ne__', '__new__', '__reduce__', '__reduce_ex__', '__repr__', '__reversed__', '__setattr__', '__setitem__', '__sizeof__', '__str__', '__subclasshook__', 'clear', 'copy', 'fromkeys', 'get', 'items', 'keys', 'pop', 'popitem', 'setdefault', 'update', 'values']\n"
     ]
    }
   ],
   "source": [
    "print(dir(student))"
   ]
  },
  {
   "cell_type": "code",
   "execution_count": 20,
   "metadata": {},
   "outputs": [],
   "source": [
    "person={\n",
    "    \"name\":\"Imdadul Haque\",\n",
    "    \"email\":\"imdadulhaqueimdad820@gmail.com\",\n",
    "    \"age\":23,\n",
    "    \"address\":\"Sirajgonj\"\n",
    "}"
   ]
  },
  {
   "cell_type": "code",
   "execution_count": 21,
   "metadata": {},
   "outputs": [],
   "source": [
    "#it is copied with same location so that for one's changes another will be changed.\n",
    "person_copy=person"
   ]
  },
  {
   "cell_type": "code",
   "execution_count": 19,
   "metadata": {},
   "outputs": [
    {
     "name": "stdout",
     "output_type": "stream",
     "text": [
      "{'name': 'Imdadul Haque', 'email': 'imdadulhaqueimdad820@gmail.com', 'age': 23, 'addres': 'Sirajgonj'}\n"
     ]
    }
   ],
   "source": [
    "print(person_copy)"
   ]
  },
  {
   "cell_type": "code",
   "execution_count": 23,
   "metadata": {},
   "outputs": [
    {
     "name": "stdout",
     "output_type": "stream",
     "text": [
      "{'name': 'Imdadul Haque', 'email': 'imdadulhaqueimdad820@gmail.com', 'age': 23, 'address': 'Sirajgonj'}\n"
     ]
    }
   ],
   "source": [
    "#For using copy() method. it never changes location. It will create different location so that it will changes location\n",
    "person_copy=person.copy()\n",
    "print(person_copy)"
   ]
  },
  {
   "cell_type": "code",
   "execution_count": 25,
   "metadata": {},
   "outputs": [
    {
     "name": "stdout",
     "output_type": "stream",
     "text": [
      "dict_values(['Imdadul Haque', 'imdadulhaqueimdad820@gmail.com', 23, 'Sirajgonj'])\n"
     ]
    }
   ],
   "source": [
    "print(person.values())"
   ]
  },
  {
   "cell_type": "code",
   "execution_count": 26,
   "metadata": {},
   "outputs": [
    {
     "name": "stdout",
     "output_type": "stream",
     "text": [
      "dict_items([('name', 'Imdadul Haque'), ('email', 'imdadulhaqueimdad820@gmail.com'), ('age', 23), ('address', 'Sirajgonj')])\n"
     ]
    }
   ],
   "source": [
    "#it show as Tuples\n",
    "print(person.items())"
   ]
  },
  {
   "cell_type": "code",
   "execution_count": 27,
   "metadata": {},
   "outputs": [
    {
     "name": "stdout",
     "output_type": "stream",
     "text": [
      "dict_keys(['name', 'email', 'age', 'address'])\n"
     ]
    }
   ],
   "source": [
    "print(person.keys())"
   ]
  },
  {
   "cell_type": "code",
   "execution_count": null,
   "metadata": {},
   "outputs": [],
   "source": []
  },
  {
   "cell_type": "code",
   "execution_count": null,
   "metadata": {},
   "outputs": [],
   "source": []
  },
  {
   "cell_type": "markdown",
   "metadata": {},
   "source": [
    "# Normal techniques to copy VS using copy() method\n",
    "<p>\n",
    "    <b>Normal techiniques to copy:</b> It is copied with same location so that for one's changes another will be changed. <br>\n",
    "    <b>Using copy() method:</b>It must changes the location That's mean It will create difference location so that defines difference location.\n",
    "</p>"
   ]
  },
  {
   "cell_type": "code",
   "execution_count": 40,
   "metadata": {},
   "outputs": [],
   "source": [
    "person={\n",
    "    \"name\":\"Imdadul Haque\"\n",
    "}"
   ]
  },
  {
   "cell_type": "code",
   "execution_count": 41,
   "metadata": {},
   "outputs": [],
   "source": [
    "person_copy=person"
   ]
  },
  {
   "cell_type": "code",
   "execution_count": 42,
   "metadata": {},
   "outputs": [
    {
     "name": "stdout",
     "output_type": "stream",
     "text": [
      "Main dictionary: {'name': 'Imdadul Haque'}\n",
      "Copied dictionary: {'name': 'Imdadul Haque'}\n"
     ]
    }
   ],
   "source": [
    "print(f\"Main dictionary: {person}\")\n",
    "print(f\"Copied dictionary: {person_copy}\")"
   ]
  },
  {
   "cell_type": "code",
   "execution_count": 43,
   "metadata": {},
   "outputs": [
    {
     "name": "stdout",
     "output_type": "stream",
     "text": [
      "Enter your occupation: Student\n"
     ]
    }
   ],
   "source": [
    "person_copy[\"occupation\"]=input(\"Enter your occupation: \")   #Add item in \"person_copy\" dictionary"
   ]
  },
  {
   "cell_type": "code",
   "execution_count": 44,
   "metadata": {},
   "outputs": [
    {
     "name": "stdout",
     "output_type": "stream",
     "text": [
      "Main dictionary: {'name': 'Imdadul Haque', 'occupation': 'Student'}\n",
      "Copied dictionary: {'name': 'Imdadul Haque', 'occupation': 'Student'}\n"
     ]
    }
   ],
   "source": [
    "print(f\"Main dictionary: {person}\")\n",
    "print(f\"Copied dictionary: {person_copy}\")"
   ]
  },
  {
   "cell_type": "markdown",
   "metadata": {},
   "source": [
    "# No changes between copied location and main location\n",
    "<p>\n",
    "    There was no changes, although I updated the <b>person_copy</b>\n",
    "</p>"
   ]
  },
  {
   "cell_type": "code",
   "execution_count": 45,
   "metadata": {},
   "outputs": [
    {
     "name": "stdout",
     "output_type": "stream",
     "text": [
      "Enter your name: Imdadul Haque\n",
      "Enter your occupation: Student\n"
     ]
    }
   ],
   "source": [
    "#-----------------> using Copy() method to copy\n",
    "person={\n",
    "    \"name\":input(\"Enter your name: \"),\n",
    "    \"occupation\":input(\"Enter your occupation: \")\n",
    "}"
   ]
  },
  {
   "cell_type": "code",
   "execution_count": 46,
   "metadata": {},
   "outputs": [],
   "source": [
    "person_copy=person.copy()  #Using copy() method for coping one to another"
   ]
  },
  {
   "cell_type": "code",
   "execution_count": 47,
   "metadata": {},
   "outputs": [
    {
     "name": "stdout",
     "output_type": "stream",
     "text": [
      "Main dictionary: {'name': 'Imdadul Haque', 'occupation': 'Student'}\n",
      "Copied dictionary: {'name': 'Imdadul Haque', 'occupation': 'Student'}\n"
     ]
    }
   ],
   "source": [
    "print(f\"Main dictionary: {person}\")\n",
    "print(f\"Copied dictionary: {person_copy}\")"
   ]
  },
  {
   "cell_type": "code",
   "execution_count": 48,
   "metadata": {},
   "outputs": [
    {
     "name": "stdout",
     "output_type": "stream",
     "text": [
      "Enter a item to remove: occupation\n"
     ]
    }
   ],
   "source": [
    "del person_copy[input(\"Enter a item to remove: \")]    #remove item in \"person_copy\" dictionary"
   ]
  },
  {
   "cell_type": "code",
   "execution_count": 49,
   "metadata": {},
   "outputs": [
    {
     "name": "stdout",
     "output_type": "stream",
     "text": [
      "Main dictionary: {'name': 'Imdadul Haque', 'occupation': 'Student'}\n",
      "Copied dictionary: {'name': 'Imdadul Haque'}\n"
     ]
    }
   ],
   "source": [
    "print(f\"Main dictionary: {person}\")\n",
    "print(f\"Copied dictionary: {person_copy}\")"
   ]
  },
  {
   "cell_type": "markdown",
   "metadata": {},
   "source": [
    "# So it's proved, using copy() method it makes a difference location"
   ]
  },
  {
   "cell_type": "code",
   "execution_count": null,
   "metadata": {},
   "outputs": [],
   "source": []
  },
  {
   "cell_type": "markdown",
   "metadata": {},
   "source": [
    "# Item add & delete in Dictionary"
   ]
  },
  {
   "cell_type": "code",
   "execution_count": 1,
   "metadata": {},
   "outputs": [],
   "source": [
    "profile ={\n",
    "    \"name\":\"Imdadul Haque\",\n",
    "    \"email\":\"imdadulhaqueimdad820@gmail.com\",\n",
    "    \"age\":23,\n",
    "    \"address\":\"Sirajgonj\",\n",
    "    \"p_email\":\"imdadulhaqueimdad820@gmail.com\"\n",
    "}"
   ]
  },
  {
   "cell_type": "code",
   "execution_count": 2,
   "metadata": {},
   "outputs": [
    {
     "name": "stdout",
     "output_type": "stream",
     "text": [
      "Enter your student ID: 171-15-1440\n",
      "Enter your passing year: 2017-2020\n",
      "Enter your dept name: Bsc in CSE\n"
     ]
    }
   ],
   "source": [
    "#-------> add item in profile dictionary\n",
    "profile[\"s_id\"]=input(\"Enter your student ID: \")\n",
    "profile[\"p_year\"]=input(\"Enter your passing year: \")\n",
    "profile[\"dept\"]=input(\"Enter your dept name: \")"
   ]
  },
  {
   "cell_type": "code",
   "execution_count": 3,
   "metadata": {},
   "outputs": [
    {
     "name": "stdout",
     "output_type": "stream",
     "text": [
      "Dictionary after add item: {'name': 'Imdadul Haque', 'email': 'imdadulhaqueimdad820@gmail.com', 'age': 23, 'address': 'Sirajgonj', 'p_email': 'imdadulhaqueimdad820@gmail.com', 's_id': '171-15-1440', 'p_year': '2017-2020', 'dept': 'Bsc in CSE'}\n"
     ]
    }
   ],
   "source": [
    "print(f\"Dictionary after add item: {profile}\")"
   ]
  },
  {
   "cell_type": "code",
   "execution_count": 4,
   "metadata": {},
   "outputs": [
    {
     "name": "stdout",
     "output_type": "stream",
     "text": [
      "Enter a item to remove: p_year\n",
      "Enter a item to remove: p_email\n",
      "Enter a item to remove: address\n"
     ]
    }
   ],
   "source": [
    "#-------> delete item in profile dictionary\n",
    "del profile[input(\"Enter a item to remove: \")]\n",
    "del profile[input(\"Enter a item to remove: \")]\n",
    "del profile[input(\"Enter a item to remove: \")]"
   ]
  },
  {
   "cell_type": "code",
   "execution_count": 5,
   "metadata": {},
   "outputs": [
    {
     "name": "stdout",
     "output_type": "stream",
     "text": [
      "Dictionary after remove item: {'name': 'Imdadul Haque', 'email': 'imdadulhaqueimdad820@gmail.com', 'age': 23, 's_id': '171-15-1440', 'dept': 'Bsc in CSE'}\n"
     ]
    }
   ],
   "source": [
    "print(f\"Dictionary after remove item: {profile}\")"
   ]
  },
  {
   "cell_type": "markdown",
   "metadata": {},
   "source": [
    "# Update or merge in dictionary"
   ]
  },
  {
   "cell_type": "code",
   "execution_count": 6,
   "metadata": {},
   "outputs": [],
   "source": [
    "student ={\n",
    "    \"name\":\"Imdadul Haque\",\n",
    "    \"s_email\":\"imdadul15-1440@diu.edu.bd\",\n",
    "    \"s_id\":\"171-15-1440\",\n",
    "    \"dept\":\"Bsc in CSE\",\n",
    "    \"uni_name\":\"Daffodil International University\"\n",
    "}\n",
    "person ={\n",
    "    \"name\":\"Imdadul Haque\",\n",
    "    \"p_email\":\"imdadulhaqueimdad820@gmail.com\",\n",
    "    \"age\":23,\n",
    "    \"district\":\"Sirajgonj\"\n",
    "}\n"
   ]
  },
  {
   "cell_type": "code",
   "execution_count": null,
   "metadata": {},
   "outputs": [],
   "source": []
  }
 ],
 "metadata": {
  "kernelspec": {
   "display_name": "Python 3",
   "language": "python",
   "name": "python3"
  },
  "language_info": {
   "codemirror_mode": {
    "name": "ipython",
    "version": 3
   },
   "file_extension": ".py",
   "mimetype": "text/x-python",
   "name": "python",
   "nbconvert_exporter": "python",
   "pygments_lexer": "ipython3",
   "version": "3.8.3"
  }
 },
 "nbformat": 4,
 "nbformat_minor": 4
}

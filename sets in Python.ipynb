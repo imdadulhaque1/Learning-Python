{
 "cells": [
  {
   "cell_type": "markdown",
   "metadata": {},
   "source": [
    "# Sets in python:\n",
    "<p>Like as <b>List</b> and <b>Tuples</b>, There are another data types in python is known as <b>Set</b>.\n",
    "    The speciality of <b>Set</b> is removing duplicate value in set. That's mean, it never alow duplicate value as <b>List</b> and <b>Tuple.</b> Now, there is no index number as <b>List</b> and <b>Tuple</b>.But we works of index number using <b>List</b> . That's mean , if we want to works as index then we need to convert into <b>List</b> from <b>Set</b>. It also maintain unorder.\n",
    "</p>"
   ]
  },
  {
   "cell_type": "code",
   "execution_count": 3,
   "metadata": {},
   "outputs": [
    {
     "name": "stdout",
     "output_type": "stream",
     "text": [
      "Set automatically removing duplicate item: {1, 2, 3, 4, 5, 6}\n"
     ]
    }
   ],
   "source": [
    "n_set = {1,1,2,2,3,3,4,4,5,5,6,6}\n",
    "print(f\"Set automatically removing duplicate item: {n_set}\")"
   ]
  },
  {
   "cell_type": "markdown",
   "metadata": {},
   "source": [
    "# Way to get item from set:|\n",
    "<p>For find out item, there is a way is <b>Loop</b> and another is converting into list then it is able to use index. <b>Loop techiniques will be coding in loop coing time.</b></p>"
   ]
  },
  {
   "cell_type": "code",
   "execution_count": 7,
   "metadata": {},
   "outputs": [
    {
     "name": "stdout",
     "output_type": "stream",
     "text": [
      "Original Set: {1, 2, 3, 4, 5, 6}\n",
      "Convert into List from Set: [1, 2, 3, 4, 5, 6]\n",
      "Find item using index: 4\n"
     ]
    }
   ],
   "source": [
    "\n",
    "#Use of index number techniques in set\n",
    "print(f\"Original Set: {n_set}\")\n",
    "c__list = list(n_set)       #Convert into list from set, so that we can use index number\n",
    "print(f\"Convert into List from Set: {c__list}\")\n",
    "print(f\"Find item using index: {c__list[3]}\")"
   ]
  },
  {
   "cell_type": "markdown",
   "metadata": {},
   "source": [
    "# List convert into Set"
   ]
  },
  {
   "cell_type": "code",
   "execution_count": 2,
   "metadata": {},
   "outputs": [
    {
     "name": "stdout",
     "output_type": "stream",
     "text": [
      "List: [1, 2, 2, 2, 2, 3, 4, 5, 4, 6, 7] and Type: <class 'list'>\n",
      "Set: {1, 2, 3, 4, 5, 6, 7} and Type: <class 'set'>\n"
     ]
    }
   ],
   "source": [
    "#List cinvert into Set\n",
    "\n",
    "l=[1,2,2,2,2,3,4,5,4,6,7]\n",
    "s=set(l)\n",
    "print(f\"List: {l} and Type: {type(l)}\")\n",
    "print(f\"Set: {s} and Type: {type(s)}\")"
   ]
  },
  {
   "cell_type": "code",
   "execution_count": 3,
   "metadata": {},
   "outputs": [
    {
     "name": "stdout",
     "output_type": "stream",
     "text": [
      "['__and__', '__class__', '__contains__', '__delattr__', '__dir__', '__doc__', '__eq__', '__format__', '__ge__', '__getattribute__', '__gt__', '__hash__', '__iand__', '__init__', '__init_subclass__', '__ior__', '__isub__', '__iter__', '__ixor__', '__le__', '__len__', '__lt__', '__ne__', '__new__', '__or__', '__rand__', '__reduce__', '__reduce_ex__', '__repr__', '__ror__', '__rsub__', '__rxor__', '__setattr__', '__sizeof__', '__str__', '__sub__', '__subclasshook__', '__xor__', 'add', 'clear', 'copy', 'difference', 'difference_update', 'discard', 'intersection', 'intersection_update', 'isdisjoint', 'issubset', 'issuperset', 'pop', 'remove', 'symmetric_difference', 'symmetric_difference_update', 'union', 'update']\n"
     ]
    }
   ],
   "source": [
    "print(dir(s))"
   ]
  },
  {
   "cell_type": "code",
   "execution_count": 7,
   "metadata": {},
   "outputs": [
    {
     "name": "stdout",
     "output_type": "stream",
     "text": [
      "Set after removing: {1, 2, 3, 4, 6, 7, 8, 9}\n"
     ]
    }
   ],
   "source": [
    "+remove item from set using index\n",
    "n={1,2,3,4,5,6,7,8,9}\n",
    "n.remove(5)\n",
    "print(f\"Set after removing: {n}\")"
   ]
  },
  {
   "cell_type": "code",
   "execution_count": 8,
   "metadata": {},
   "outputs": [
    {
     "name": "stdout",
     "output_type": "stream",
     "text": [
      "Original set: {1, 2, 3, 4, 6, 7, 8, 9}\n",
      "Set after pop item: {2, 3, 4, 6, 7, 8, 9}\n"
     ]
    }
   ],
   "source": [
    "#-----------> pop(): pop generally remove last item but in set it remove anywhere\n",
    "            # pop() is not perfect function in set to remove item. \n",
    "            #remove() is too usable function in set\n",
    "print(f\"Original set: {n}\")\n",
    "n.pop()\n",
    "print(f\"Set after pop item: {n}\") "
   ]
  },
  {
   "cell_type": "code",
   "execution_count": 9,
   "metadata": {},
   "outputs": [
    {
     "name": "stdout",
     "output_type": "stream",
     "text": [
      "Set after adding an item: {1, 2, 3, 4, 100, 6, 7, 8, 9}\n"
     ]
    }
   ],
   "source": [
    "#-----------> add(): using this function, add item any position because it is an unorder.\n",
    "n={1, 2, 3, 4, 6, 7, 8, 9}\n",
    "n.add(100)\n",
    "print(f\"Set after adding an item: {n}\")"
   ]
  },
  {
   "cell_type": "code",
   "execution_count": null,
   "metadata": {},
   "outputs": [],
   "source": []
  }
 ],
 "metadata": {
  "kernelspec": {
   "display_name": "Python 3",
   "language": "python",
   "name": "python3"
  },
  "language_info": {
   "codemirror_mode": {
    "name": "ipython",
    "version": 3
   },
   "file_extension": ".py",
   "mimetype": "text/x-python",
   "name": "python",
   "nbconvert_exporter": "python",
   "pygments_lexer": "ipython3",
   "version": "3.8.3"
  }
 },
 "nbformat": 4,
 "nbformat_minor": 4
}
